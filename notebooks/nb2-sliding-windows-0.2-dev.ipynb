{
 "cells": [
  {
   "cell_type": "markdown",
   "metadata": {},
   "source": [
    "### NB-2: Infer empirical trees along chromosomes\n",
    "\n",
    "Slide along chromosomes with known genealogies, infer raxml trees, and explore BUCKy like methods for inferring trees more accurately and with uncertainty. "
   ]
  },
  {
   "cell_type": "code",
   "execution_count": 1,
   "metadata": {},
   "outputs": [],
   "source": [
    "# pip install strange\n",
    "# conda install seq-gen -c bioconda\n",
    "# conda install toytree -c eaton-lab\n",
    "# #strange includes local raxml-ng "
   ]
  },
  {
   "cell_type": "code",
   "execution_count": 8,
   "metadata": {},
   "outputs": [],
   "source": [
    "import os\n",
    "import numpy as np\n",
    "import pandas as pd\n",
    "import strange\n",
    "import toytree\n",
    "import toyplot"
   ]
  },
  {
   "cell_type": "code",
   "execution_count": 9,
   "metadata": {},
   "outputs": [
    {
     "name": "stdout",
     "output_type": "stream",
     "text": [
      "toytree 0.1.19\n",
      "strange 0.2-dev\n"
     ]
    }
   ],
   "source": [
    "assert int(toytree.__version__.split(\".\")[-1]) >= 19, \"update toytree\"\n",
    "print(\"toytree\", toytree.__version__)\n",
    "print(\"strange\", strange.__version__)"
   ]
  },
  {
   "cell_type": "markdown",
   "metadata": {},
   "source": [
    "### Load data sets from notebook 1"
   ]
  },
  {
   "cell_type": "code",
   "execution_count": 73,
   "metadata": {},
   "outputs": [],
   "source": [
    "class Window:\n",
    "    def __init__(self, name, workdir):\n",
    "        # input attrs\n",
    "        self.name = name\n",
    "        self.workdir = os.path.realpath(os.path.expanduser(workdir))\n",
    "        self.tree = toytree.tree(os.path.join(workdir, name + \".newick\"))\n",
    "        self.clade_table = pd.read_csv(\n",
    "            os.path.join(workdir, name + \".clade_table.csv\"), index_col=0)\n",
    "        self.tree_table = pd.read_csv(\n",
    "            os.path.join(workdir, name + \".tree_table.csv\"), index_col=0)\n",
    "        self.phy = os.path.join(workdir, name + \".phy\")\n",
    "        \n",
    "        # built attrs\n",
    "        self.raxml_table = pd.DataFrame({})\n",
    "        self.snames = None\n",
    "        self.seqarr = None\n",
    "        \n",
    "        # run functions\n",
    "        self.parse_seqarray()\n",
    "        \n",
    "        \n",
    "    def parse_seqarray(self):\n",
    "        \"read in seqarray as an ndarray\"\n",
    "        with open(self.phy, 'r') as inphy:\n",
    "            self.snames = [i.split()[0] for i in inphy.readlines()[1:]]\n",
    "        with open(self.phy, 'r') as inphy:\n",
    "            self.seqarr = np.array([list(i.split()[-1]) for i in inphy.readlines()[1:]])\n",
    "    \n",
    "    def run_raxml_sliding_windows(self, window_size, slide_interval, force=False):\n",
    "        \"\"\"\n",
    "        Write temp phy files, infer raxml trees, store in table, cleanup.\n",
    "        Pull chunks of sequence from seqarray in windows defined by tree_table\n",
    "        format as phylip and pass to raxml subprocess.\n",
    "        \"\"\"\n",
    "        # do not overwrite results if they exist...\n",
    "        pass\n",
    "    \n",
    "    def run_mb_sliding_windows(self):\n",
    "        pass\n",
    "        "
   ]
  },
  {
   "cell_type": "code",
   "execution_count": 74,
   "metadata": {},
   "outputs": [
    {
     "data": {
      "text/html": [
       "<div>\n",
       "<style scoped>\n",
       "    .dataframe tbody tr th:only-of-type {\n",
       "        vertical-align: middle;\n",
       "    }\n",
       "\n",
       "    .dataframe tbody tr th {\n",
       "        vertical-align: top;\n",
       "    }\n",
       "\n",
       "    .dataframe thead th {\n",
       "        text-align: right;\n",
       "    }\n",
       "</style>\n",
       "<table border=\"1\" class=\"dataframe\">\n",
       "  <thead>\n",
       "    <tr style=\"text-align: right;\">\n",
       "      <th></th>\n",
       "      <th>start</th>\n",
       "      <th>end</th>\n",
       "      <th>length</th>\n",
       "      <th>nsnps</th>\n",
       "      <th>treeheight</th>\n",
       "      <th>mstree</th>\n",
       "    </tr>\n",
       "  </thead>\n",
       "  <tbody>\n",
       "    <tr>\n",
       "      <th>0</th>\n",
       "      <td>0</td>\n",
       "      <td>107</td>\n",
       "      <td>107</td>\n",
       "      <td>14</td>\n",
       "      <td>2943223</td>\n",
       "      <td>(8:2943223.36414657067508,(7:2301312.881055349...</td>\n",
       "    </tr>\n",
       "    <tr>\n",
       "      <th>1</th>\n",
       "      <td>107</td>\n",
       "      <td>606</td>\n",
       "      <td>499</td>\n",
       "      <td>67</td>\n",
       "      <td>2684972</td>\n",
       "      <td>(8:2684972.08116297377273,(7:2301312.881055349...</td>\n",
       "    </tr>\n",
       "    <tr>\n",
       "      <th>2</th>\n",
       "      <td>606</td>\n",
       "      <td>675</td>\n",
       "      <td>69</td>\n",
       "      <td>6</td>\n",
       "      <td>2684972</td>\n",
       "      <td>(8:2684972.08116297377273,(7:2301312.881055349...</td>\n",
       "    </tr>\n",
       "    <tr>\n",
       "      <th>3</th>\n",
       "      <td>675</td>\n",
       "      <td>823</td>\n",
       "      <td>148</td>\n",
       "      <td>23</td>\n",
       "      <td>2684972</td>\n",
       "      <td>(8:2684972.08116297377273,(7:2301312.881055349...</td>\n",
       "    </tr>\n",
       "    <tr>\n",
       "      <th>4</th>\n",
       "      <td>823</td>\n",
       "      <td>986</td>\n",
       "      <td>163</td>\n",
       "      <td>25</td>\n",
       "      <td>2684972</td>\n",
       "      <td>(8:2684972.08116297377273,(7:2301312.881055349...</td>\n",
       "    </tr>\n",
       "  </tbody>\n",
       "</table>\n",
       "</div>"
      ],
      "text/plain": [
       "   start  end  length  nsnps  treeheight  \\\n",
       "0      0  107     107     14     2943223   \n",
       "1    107  606     499     67     2684972   \n",
       "2    606  675      69      6     2684972   \n",
       "3    675  823     148     23     2684972   \n",
       "4    823  986     163     25     2684972   \n",
       "\n",
       "                                              mstree  \n",
       "0  (8:2943223.36414657067508,(7:2301312.881055349...  \n",
       "1  (8:2684972.08116297377273,(7:2301312.881055349...  \n",
       "2  (8:2684972.08116297377273,(7:2301312.881055349...  \n",
       "3  (8:2684972.08116297377273,(7:2301312.881055349...  \n",
       "4  (8:2684972.08116297377273,(7:2301312.881055349...  "
      ]
     },
     "execution_count": 74,
     "metadata": {},
     "output_type": "execute_result"
    }
   ],
   "source": [
    "self = Window(\"imb5\", \"../tests/\")\n",
    "self.tree_table.head()"
   ]
  },
  {
   "cell_type": "markdown",
   "metadata": {},
   "source": [
    "### Tree table shows raxml trees for each window"
   ]
  },
  {
   "cell_type": "code",
   "execution_count": null,
   "metadata": {},
   "outputs": [],
   "source": []
  },
  {
   "cell_type": "markdown",
   "metadata": {},
   "source": [
    "### Functions to compare raxml trees to true tree in each interval"
   ]
  },
  {
   "cell_type": "code",
   "execution_count": null,
   "metadata": {},
   "outputs": [],
   "source": []
  },
  {
   "cell_type": "markdown",
   "metadata": {},
   "source": [
    "### ..."
   ]
  },
  {
   "cell_type": "code",
   "execution_count": null,
   "metadata": {},
   "outputs": [],
   "source": []
  }
 ],
 "metadata": {
  "kernelspec": {
   "display_name": "Python 3",
   "language": "python",
   "name": "python3"
  },
  "language_info": {
   "codemirror_mode": {
    "name": "ipython",
    "version": 3
   },
   "file_extension": ".py",
   "mimetype": "text/x-python",
   "name": "python",
   "nbconvert_exporter": "python",
   "pygments_lexer": "ipython3",
   "version": "3.6.7"
  }
 },
 "nbformat": 4,
 "nbformat_minor": 2
}
