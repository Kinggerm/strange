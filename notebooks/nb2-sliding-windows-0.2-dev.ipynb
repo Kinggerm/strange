{
 "cells": [
  {
   "cell_type": "markdown",
   "metadata": {},
   "source": [
    "### NB-2: Infer empirical trees along chromosomes\n",
    "\n",
    "Slide along chromosomes with known genealogies, infer raxml trees, and explore BUCKy like methods for inferring trees more accurately and with uncertainty. "
   ]
  },
  {
   "cell_type": "code",
   "execution_count": 1,
   "metadata": {},
   "outputs": [],
   "source": [
    "# pip install strange\n",
    "# conda install seq-gen -c bioconda\n",
    "# conda install toytree -c eaton-lab\n",
    "# #strange includes local raxml-ng "
   ]
  },
  {
   "cell_type": "code",
   "execution_count": 8,
   "metadata": {},
   "outputs": [],
   "source": [
    "import os\n",
    "import numpy as np\n",
    "import pandas as pd\n",
    "import strange\n",
    "import toytree\n",
    "import toyplot"
   ]
  },
  {
   "cell_type": "code",
   "execution_count": 9,
   "metadata": {},
   "outputs": [
    {
     "name": "stdout",
     "output_type": "stream",
     "text": [
      "toytree 0.1.19\n",
      "strange 0.2-dev\n"
     ]
    }
   ],
   "source": [
    "assert int(toytree.__version__.split(\".\")[-1]) >= 19, \"update toytree\"\n",
    "print(\"toytree\", toytree.__version__)\n",
    "print(\"strange\", strange.__version__)"
   ]
  },
  {
   "cell_type": "code",
   "execution_count": null,
   "metadata": {},
   "outputs": [],
   "source": []
  },
  {
   "cell_type": "markdown",
   "metadata": {},
   "source": [
    "### Load data sets from notebook 1"
   ]
  },
  {
   "cell_type": "code",
   "execution_count": 21,
   "metadata": {},
   "outputs": [],
   "source": [
    "class Window:\n",
    "    def __init__(self, name, workdir):\n",
    "        self.name = name\n",
    "        self.workdir = os.path.realpath(os.path.expanduser(workdir))\n",
    "        self.tree = toytree.tree(os.path.join(workdir, name + \".newick\"))\n",
    "        self.phy = os.path.join(workdir, name + \".phy\")\n",
    "        self.clade_table = pd.read_csv(\n",
    "            os.path.join(workdir, name + \".clade_table.csv\"))\n",
    "        self.tree_table = pd.read_csv(\n",
    "            os.path.join(workdir, name + \".clade_table.csv\"))\n",
    "          \n",
    "    def raxml_sliding_windows(self):\n",
    "        pass\n",
    "    \n",
    "    def mb_sliding_windows(self):\n",
    "        pass\n",
    "        "
   ]
  },
  {
   "cell_type": "code",
   "execution_count": 23,
   "metadata": {},
   "outputs": [
    {
     "data": {
      "text/plain": [
       "<__main__.Window at 0x7f463b367d68>"
      ]
     },
     "execution_count": 23,
     "metadata": {},
     "output_type": "execute_result"
    }
   ],
   "source": [
    "d1 = Window(\"imb5\", \"analysis-strange/\")\n",
    "d1"
   ]
  },
  {
   "cell_type": "markdown",
   "metadata": {},
   "source": [
    "### Tree table shows raxml trees for each window"
   ]
  },
  {
   "cell_type": "code",
   "execution_count": null,
   "metadata": {},
   "outputs": [],
   "source": []
  },
  {
   "cell_type": "markdown",
   "metadata": {},
   "source": [
    "### Functions to compare raxml trees to true tree in each interval"
   ]
  },
  {
   "cell_type": "code",
   "execution_count": null,
   "metadata": {},
   "outputs": [],
   "source": []
  },
  {
   "cell_type": "markdown",
   "metadata": {},
   "source": [
    "### ..."
   ]
  },
  {
   "cell_type": "code",
   "execution_count": null,
   "metadata": {},
   "outputs": [],
   "source": []
  }
 ],
 "metadata": {
  "kernelspec": {
   "display_name": "Python 3",
   "language": "python",
   "name": "python3"
  },
  "language_info": {
   "codemirror_mode": {
    "name": "ipython",
    "version": 3
   },
   "file_extension": ".py",
   "mimetype": "text/x-python",
   "name": "python",
   "nbconvert_exporter": "python",
   "pygments_lexer": "ipython3",
   "version": "3.6.7"
  }
 },
 "nbformat": 4,
 "nbformat_minor": 2
}
